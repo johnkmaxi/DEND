{
 "cells": [
  {
   "cell_type": "code",
   "execution_count": 1,
   "metadata": {},
   "outputs": [],
   "source": [
    "import os\n",
    "import glob\n",
    "import psycopg2\n",
    "import pandas as pd\n",
    "from sql_queries import *"
   ]
  },
  {
   "cell_type": "code",
   "execution_count": 2,
   "metadata": {},
   "outputs": [],
   "source": [
    "conn = psycopg2.connect(\"host=127.0.0.1 dbname=sparkifydb user=student password=student\")\n",
    "cur = conn.cursor()"
   ]
  },
  {
   "cell_type": "markdown",
   "metadata": {},
   "source": [
    "Monthly users?"
   ]
  },
  {
   "cell_type": "code",
   "execution_count": 3,
   "metadata": {},
   "outputs": [],
   "source": [
    "monthly_users = \"\"\"SELECT time.month, time.year, COUNT( DISTINCT user_id)\n",
    "                            FROM songplays\n",
    "                            JOIN time\n",
    "                            ON songplays.start_time = time.start_time\n",
    "                            GROUP BY time.month, time.year\"\"\""
   ]
  },
  {
   "cell_type": "code",
   "execution_count": 4,
   "metadata": {},
   "outputs": [],
   "source": [
    "cur.execute(monthly_users)\n",
    "results = cur.fetchall()"
   ]
  },
  {
   "cell_type": "code",
   "execution_count": 5,
   "metadata": {},
   "outputs": [
    {
     "data": {
      "text/plain": [
       "[(11, 11, 96)]"
      ]
     },
     "execution_count": 5,
     "metadata": {},
     "output_type": "execute_result"
    }
   ],
   "source": [
    "results"
   ]
  },
  {
   "cell_type": "markdown",
   "metadata": {},
   "source": [
    "How many songs does a user listen to per session?"
   ]
  },
  {
   "cell_type": "code",
   "execution_count": 6,
   "metadata": {},
   "outputs": [],
   "source": [
    "listens_per_session = \"\"\"SELECT oq.user_id, AVG(sq.\"Listens Per Session\")\n",
    "                        FROM songplays oq\n",
    "                            JOIN (SELECT user_id, session_id, COUNT(songplay_id) \"Listens Per Session\"\n",
    "                            FROM songplays\n",
    "                            GROUP BY user_id, session_id\n",
    "                            ORDER BY \"Listens Per Session\" DESC) sq\n",
    "                            ON oq.user_id = sq.user_id\n",
    "                        GROUP BY oq.user_id\n",
    "                        ORDER BY AVG(sq.\"Listens Per Session\") DESC\"\"\""
   ]
  },
  {
   "cell_type": "code",
   "execution_count": 7,
   "metadata": {},
   "outputs": [],
   "source": [
    "cur.execute(listens_per_session)\n",
    "results = cur.fetchall()"
   ]
  },
  {
   "cell_type": "code",
   "execution_count": 8,
   "metadata": {},
   "outputs": [
    {
     "data": {
      "text/plain": [
       "[('82', Decimal('43.5000000000000000')),\n",
       " ('95', Decimal('42.6000000000000000')),\n",
       " ('15', Decimal('38.5833333333333333')),\n",
       " ('73', Decimal('36.1250000000000000')),\n",
       " ('72', Decimal('36.0000000000000000')),\n",
       " ('30', Decimal('35.6000000000000000')),\n",
       " ('97', Decimal('34.8125000000000000')),\n",
       " ('24', Decimal('32.1000000000000000')),\n",
       " ('44', Decimal('28.3571428571428571')),\n",
       " ('25', Decimal('28.1666666666666667')),\n",
       " ('42', Decimal('28.0000000000000000')),\n",
       " ('29', Decimal('26.6153846153846154')),\n",
       " ('36', Decimal('24.8000000000000000')),\n",
       " ('80', Decimal('20.1515151515151515')),\n",
       " ('85', Decimal('19.8888888888888889')),\n",
       " ('16', Decimal('18.5833333333333333')),\n",
       " ('65', Decimal('17.0000000000000000')),\n",
       " ('70', Decimal('16.5000000000000000')),\n",
       " ('49', Decimal('16.4047619047619048')),\n",
       " ('58', Decimal('14.0000000000000000')),\n",
       " ('88', Decimal('11.2500000000000000')),\n",
       " ('20', Decimal('9.0000000000000000')),\n",
       " ('19', Decimal('4.5000000000000000')),\n",
       " ('41', Decimal('4.5000000000000000')),\n",
       " ('75', Decimal('3.6000000000000000')),\n",
       " ('8', Decimal('3.3750000000000000')),\n",
       " ('2', Decimal('3.3333333333333333')),\n",
       " ('96', Decimal('3.2500000000000000')),\n",
       " ('67', Decimal('3.1250000000000000')),\n",
       " ('3', Decimal('3.0000000000000000')),\n",
       " ('38', Decimal('3.0000000000000000')),\n",
       " ('92', Decimal('3.0000000000000000')),\n",
       " ('54', Decimal('3.0000000000000000')),\n",
       " ('84', Decimal('3.0000000000000000')),\n",
       " ('34', Decimal('3.0000000000000000')),\n",
       " ('86', Decimal('2.6470588235294118')),\n",
       " ('51', Decimal('2.5000000000000000')),\n",
       " ('71', Decimal('2.5000000000000000')),\n",
       " ('101', Decimal('2.5000000000000000')),\n",
       " ('62', Decimal('2.5000000000000000')),\n",
       " ('55', Decimal('2.5000000000000000')),\n",
       " ('77', Decimal('2.5000000000000000')),\n",
       " ('83', Decimal('2.4545454545454545')),\n",
       " ('37', Decimal('2.4285714285714286')),\n",
       " ('28', Decimal('2.3333333333333333')),\n",
       " ('91', Decimal('2.2500000000000000')),\n",
       " ('60', Decimal('2.2500000000000000')),\n",
       " ('53', Decimal('2.2222222222222222')),\n",
       " ('66', Decimal('2.1764705882352941')),\n",
       " ('100', Decimal('2.1111111111111111')),\n",
       " ('50', Decimal('2.0869565217391304')),\n",
       " ('26', Decimal('2.0727272727272727')),\n",
       " ('59', Decimal('2.0000000000000000')),\n",
       " ('76', Decimal('2.0000000000000000')),\n",
       " ('57', Decimal('2.0000000000000000')),\n",
       " ('14', Decimal('2.0000000000000000')),\n",
       " ('9', Decimal('2.0000000000000000')),\n",
       " ('12', Decimal('2.0000000000000000')),\n",
       " ('98', Decimal('2.0000000000000000')),\n",
       " ('35', Decimal('2.0000000000000000')),\n",
       " ('56', Decimal('2.0000000000000000')),\n",
       " ('22', Decimal('2.0000000000000000')),\n",
       " ('5', Decimal('2.0000000000000000')),\n",
       " ('32', Decimal('1.8666666666666667')),\n",
       " ('61', Decimal('1.8461538461538462')),\n",
       " ('43', Decimal('1.8333333333333333')),\n",
       " ('33', Decimal('1.8181818181818182')),\n",
       " ('69', Decimal('1.8125000000000000')),\n",
       " ('17', Decimal('1.7500000000000000')),\n",
       " ('10', Decimal('1.7500000000000000')),\n",
       " ('78', Decimal('1.7500000000000000')),\n",
       " ('13', Decimal('1.6666666666666667')),\n",
       " ('7', Decimal('1.6666666666666667')),\n",
       " ('63', Decimal('1.6666666666666667')),\n",
       " ('6', Decimal('1.6428571428571429')),\n",
       " ('52', Decimal('1.5454545454545455')),\n",
       " ('47', Decimal('1.5000000000000000')),\n",
       " ('81', Decimal('1.5000000000000000')),\n",
       " ('90', Decimal('1.5000000000000000')),\n",
       " ('89', Decimal('1.4285714285714286')),\n",
       " ('94', Decimal('1.4000000000000000')),\n",
       " ('99', Decimal('1.3333333333333333')),\n",
       " ('23', Decimal('1.3333333333333333')),\n",
       " ('4', Decimal('1.2500000000000000')),\n",
       " ('18', Decimal('1.2500000000000000')),\n",
       " ('40', Decimal('1.1666666666666667')),\n",
       " ('74', Decimal('1.1428571428571429')),\n",
       " ('68', Decimal('1.00000000000000000000')),\n",
       " ('79', Decimal('1.00000000000000000000')),\n",
       " ('64', Decimal('1.00000000000000000000')),\n",
       " ('11', Decimal('1.00000000000000000000')),\n",
       " ('87', Decimal('1.00000000000000000000')),\n",
       " ('39', Decimal('1.00000000000000000000')),\n",
       " ('45', Decimal('1.00000000000000000000')),\n",
       " ('48', Decimal('1.00000000000000000000')),\n",
       " ('27', Decimal('1.00000000000000000000'))]"
      ]
     },
     "execution_count": 8,
     "metadata": {},
     "output_type": "execute_result"
    }
   ],
   "source": [
    "results"
   ]
  },
  {
   "cell_type": "markdown",
   "metadata": {},
   "source": [
    "Do paid users listen more than free users?"
   ]
  },
  {
   "cell_type": "code",
   "execution_count": 9,
   "metadata": {},
   "outputs": [],
   "source": [
    "listens_by_user_level = \"\"\"SELECT oq.level, AVG(sq.\"Listens Per Session\")\n",
    "                        FROM songplays oq\n",
    "                            JOIN (SELECT user_id, session_id, COUNT(songplay_id) \"Listens Per Session\"\n",
    "                            FROM songplays\n",
    "                            GROUP BY user_id, session_id\n",
    "                            ORDER BY \"Listens Per Session\" DESC) sq\n",
    "                            ON oq.user_id = sq.user_id\n",
    "                        GROUP BY oq.level\n",
    "                        ORDER BY AVG(sq.\"Listens Per Session\") DESC\"\"\""
   ]
  },
  {
   "cell_type": "code",
   "execution_count": 10,
   "metadata": {},
   "outputs": [],
   "source": [
    "cur.execute(listens_by_user_level)\n",
    "results = cur.fetchall()"
   ]
  },
  {
   "cell_type": "code",
   "execution_count": 11,
   "metadata": {},
   "outputs": [
    {
     "data": {
      "text/plain": [
       "[('paid', Decimal('23.0979009375259272')),\n",
       " ('free', Decimal('4.3490275871859178'))]"
      ]
     },
     "execution_count": 11,
     "metadata": {},
     "output_type": "execute_result"
    }
   ],
   "source": [
    "results"
   ]
  },
  {
   "cell_type": "markdown",
   "metadata": {},
   "source": [
    "What is the most popular artist?"
   ]
  },
  {
   "cell_type": "code",
   "execution_count": 12,
   "metadata": {},
   "outputs": [],
   "source": [
    "popular_artists = \"\"\"SELECT artist_id, COUNT(songplay_id) \"Artist Count\"\n",
    "                    FROM songplays\n",
    "                    GROUP BY artist_id\n",
    "                    ORDER BY \"Artist Count\" DESC\n",
    "                    LIMIT 10\"\"\""
   ]
  },
  {
   "cell_type": "code",
   "execution_count": 13,
   "metadata": {},
   "outputs": [],
   "source": [
    "cur.execute(popular_artists)\n",
    "results = cur.fetchall()"
   ]
  },
  {
   "cell_type": "code",
   "execution_count": 14,
   "metadata": {},
   "outputs": [
    {
     "data": {
      "text/plain": [
       "[('Coldplay', 58),\n",
       " ('Kings Of Leon', 55),\n",
       " ('Dwight Yoakam', 38),\n",
       " ('The Black Keys', 36),\n",
       " ('Jack Johnson', 35),\n",
       " ('Muse', 35),\n",
       " ('Florence + The Machine', 35),\n",
       " ('BjÃ\\x83Â¶rk', 33),\n",
       " ('John Mayer', 31),\n",
       " ('The Killers', 31)]"
      ]
     },
     "execution_count": 14,
     "metadata": {},
     "output_type": "execute_result"
    }
   ],
   "source": [
    "results"
   ]
  },
  {
   "cell_type": "markdown",
   "metadata": {},
   "source": [
    "Most popular song?"
   ]
  },
  {
   "cell_type": "code",
   "execution_count": 15,
   "metadata": {},
   "outputs": [],
   "source": [
    "popular_songs = \"\"\"SELECT song_id, COUNT(songplay_id) \"Song Count\"\n",
    "                    FROM songplays\n",
    "                    GROUP BY song_id\n",
    "                    ORDER BY \"Song Count\" DESC\n",
    "                    LIMIT 10\"\"\""
   ]
  },
  {
   "cell_type": "code",
   "execution_count": 16,
   "metadata": {},
   "outputs": [],
   "source": [
    "cur.execute(popular_songs)\n",
    "results = cur.fetchall()"
   ]
  },
  {
   "cell_type": "code",
   "execution_count": 17,
   "metadata": {},
   "outputs": [
    {
     "data": {
      "text/plain": [
       "[(\"You're The One\", 37),\n",
       " ('Undo', 28),\n",
       " ('Revelry', 27),\n",
       " ('Sehr kosmisch', 21),\n",
       " ('Horn Concerto No. 4 in E flat K495: II. Romance (Andante cantabile)', 19),\n",
       " ('Secrets', 17),\n",
       " ('Canada', 17),\n",
       " ('Dog Days Are Over (Radio Edit)', 16),\n",
       " ('ReprÃ\\x83Â©sente', 14),\n",
       " ('Invalid', 14)]"
      ]
     },
     "execution_count": 17,
     "metadata": {},
     "output_type": "execute_result"
    }
   ],
   "source": [
    "results"
   ]
  },
  {
   "cell_type": "markdown",
   "metadata": {},
   "source": [
    "When is usage of Sparkify the greatest?"
   ]
  },
  {
   "cell_type": "code",
   "execution_count": 18,
   "metadata": {},
   "outputs": [],
   "source": [
    "weekly_usage = \"\"\"SELECT time.weekday, COUNT(songplay_id)\n",
    "                FROM songplays\n",
    "                JOIN time\n",
    "                ON songplays.start_time = time.start_time\n",
    "                GROUP BY time.weekday\n",
    "                ORDER BY time.weekday\"\"\""
   ]
  },
  {
   "cell_type": "code",
   "execution_count": 19,
   "metadata": {},
   "outputs": [],
   "source": [
    "cur.execute(weekly_usage)\n",
    "results = cur.fetchall()"
   ]
  },
  {
   "cell_type": "code",
   "execution_count": 20,
   "metadata": {},
   "outputs": [
    {
     "data": {
      "text/plain": [
       "[(0, 1014), (1, 1071), (2, 1364), (3, 1052), (4, 1295), (5, 628), (6, 396)]"
      ]
     },
     "execution_count": 20,
     "metadata": {},
     "output_type": "execute_result"
    }
   ],
   "source": [
    "results"
   ]
  }
 ],
 "metadata": {
  "kernelspec": {
   "display_name": "Python 3",
   "language": "python",
   "name": "python3"
  },
  "language_info": {
   "codemirror_mode": {
    "name": "ipython",
    "version": 3
   },
   "file_extension": ".py",
   "mimetype": "text/x-python",
   "name": "python",
   "nbconvert_exporter": "python",
   "pygments_lexer": "ipython3",
   "version": "3.6.3"
  }
 },
 "nbformat": 4,
 "nbformat_minor": 2
}
