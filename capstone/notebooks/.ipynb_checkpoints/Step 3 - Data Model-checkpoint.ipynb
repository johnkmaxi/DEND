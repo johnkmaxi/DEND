{
 "cells": [
  {
   "cell_type": "markdown",
   "metadata": {},
   "source": [
    "# Data Model\n",
    "\n",
    "The challenge of this data is how to align the problems with the AQI and environment data. One can choose an arbitrary number of lookback days from a problem over which to calculate the AQI value and average temp, humidty, etc. This means that during processing the values of the environment variables need to be calculated over various time lags so that they can be joined to the problems with the right time offset. For instance, if a problem started in June 2019, we would want to calculate what the weather was like for June 2018 - June 2019 and tie those numbers together. Then we could compare how the past year of weather related to the problem. On the other hand, there are questions about health care usage in the past 2 weeks. In these cases, we want to know what was happening in the environment in the past 2 weeks.\n",
    "\n",
    "Perhaps two weather tables. The values in one give the average weather data averaged over the past year for any given date. The values in the other give the data averaged over the past two weeks from any given date. Foriegn key columns include the spatial values (state, city, county) to join to the problems table based on location.\n",
    "\n",
    "A date dimension table to capture information about specific dates. (Month, day of week, year, day of month, is weekend, is holiday).\n",
    "\n",
    "Problem dimension table to hold the mapping between problem code and problem name.\n",
    "\n",
    "# Data Processing\n",
    "\n",
    "### Weather\n",
    "\n",
    "1. Join weather variables on date and location\n",
    "2. pivot into columns for each location\n",
    "3. create a table of 1 year moving average for each location\n",
    "4. create a table of 2 week moving average for each location\n",
    "5. Unpivot and align moving average values back to original data shape\n",
    "6. Split columns into fact/dimension tables\n",
    "\n",
    "### NHIS \n",
    "\n",
    "1. Drop columns\n",
    "2. Combine problems for kids and adults\n",
    "3. Calculate length of problem in days\n",
    "4. Split data into fact/dimension tables\n",
    "\n",
    "### Analysis\n",
    "\n",
    "1. Generate table showing correlation of AQI and number of doctor visits in past 2 weeks\n",
    "2. Generate table showing AQI levels for year prior to problem onset"
   ]
  }
 ],
 "metadata": {
  "kernelspec": {
   "display_name": "Python 3",
   "language": "python",
   "name": "python3"
  },
  "language_info": {
   "codemirror_mode": {
    "name": "ipython",
    "version": 3
   },
   "file_extension": ".py",
   "mimetype": "text/x-python",
   "name": "python",
   "nbconvert_exporter": "python",
   "pygments_lexer": "ipython3",
   "version": "3.6.6"
  }
 },
 "nbformat": 4,
 "nbformat_minor": 2
}
